{
 "cells": [
  {
   "cell_type": "markdown",
   "metadata": {},
   "source": [
    "# Lab 2: Data Loading, Cleaning, and Exploration\n",
    "\n",
    "In this lab, we will cover the following topics:\n",
    "1. Data loading and cleaning\n",
    "2. Handling missing data\n",
    "3. Feature engineering examples\n",
    "4. Visualizations/data exploration\n",
    "\n",
    "Each section includes basic implementation and questions for further exploration."
   ]
  },
  {
   "cell_type": "markdown",
   "metadata": {},
   "source": [
    "## 1. Data Loading and Cleaning\n",
    "\n",
    "We will start by loading and cleaning a dataset. We will also explore different techniques for data cleaning."
   ]
  },
  {
   "cell_type": "code",
   "execution_count": null,
   "metadata": {},
   "outputs": [],
   "source": [
    "import functionals as f\n",
    "import pandas as pd\n",
    "import numpy as np\n",
    "\n",
    "# Load the dataset\n",
    "path_to_file = 'messy_data.csv'\n",
    "data = pd.read_csv(path_to_file)\n",
    "\n",
    "# Display dataset information\n",
    "# data.head()\n",
    "# data.info(\n",
    "# data.describe()\n",
    "\n",
    "# Run the simple model\n",
    "# f.simple_model(data)"
   ]
  },
  {
   "cell_type": "markdown",
   "metadata": {},
   "source": [
    "## Data Cleaning\n",
    "\n",
    "We will clean the dataset by removing duplicates, fixing inconsistent entries and removing outliers."
   ]
  },
  {
   "cell_type": "code",
   "execution_count": null,
   "metadata": {},
   "outputs": [],
   "source": [
    "# Remove duplicates\n",
    "data_no_duplicates = data.copy().drop_duplicates()\n",
    "\n",
    "# Fix inconsistent entries\n",
    "data_format_fixed = data.copy()\n",
    "data_format_fixed['sex'] = data_format_fixed['sex'].apply(lambda x: 'female' if 'F' in x or 'f' in x else 'male')\n",
    "\n",
    "# Check for outliers - if they exist, remove them\n",
    "# <insert code here>\n",
    "\n",
    "# Dataset with no duplicates, fixed format, missing values and outlier removed (if they exist)\n",
    "# <insert code here>\n"
   ]
  },
  {
   "cell_type": "markdown",
   "metadata": {},
   "source": [
    "### Questions for Exploration\n",
    "\n",
    "1. How does the following affect model performance?\n",
    "    * removing duplicates\n",
    "    * fixing inconsistencies  \n",
    "2. What other inconsistencies can you find and fix in the dataset?\n",
    "3. How does the choice of dataset affect the data cleaning process?"
   ]
  },
  {
   "cell_type": "markdown",
   "metadata": {},
   "source": [
    "## 2. Handling Missing Data\n",
    "\n",
    "We will handle missing data by using different techniques such as imputation and deletion. We will also explore the impact of these techniques on the dataset."
   ]
  },
  {
   "cell_type": "code",
   "execution_count": null,
   "metadata": {},
   "outputs": [],
   "source": [
    "# Identify missing values\n",
    "missing_data = data.isnull().sum()\n",
    "print(missing_data)\n",
    "\n",
    "# Impute missing values\n",
    "numerical_col_name = []\n",
    "categorical_col_name = []\n",
    "data['age'].fillna(data['age'].mean(), inplace=True)\n",
    "data['embarked'].fillna(data['embarked'].mode()[0], inplace=True)\n",
    "\n",
    "# Drop rows with missing values\n",
    "data.dropna(inplace=True)\n",
    "\n",
    "# Display the dataset after handling missing data\n",
    "data.head()\n"
   ]
  },
  {
   "cell_type": "markdown",
   "metadata": {},
   "source": [
    "### Questions for Exploration\n",
    "\n",
    "1. How does the following affect model performance:\n",
    "    * imputation \n",
    "    * dropping rows with missing values\n",
    "2. What happens to the model performance if you use different imputation techniques (e.g., median, mode)?\n",
    "3. How does the choice of dataset affect the handling of missing data?"
   ]
  },
  {
   "cell_type": "markdown",
   "metadata": {},
   "source": [
    "## 3. Feature Engineering Examples\n",
    "\n",
    "Next, we will create new features from the existing ones. We will also explore different techniques for feature engineering."
   ]
  },
  {
   "cell_type": "code",
   "execution_count": null,
   "metadata": {},
   "outputs": [],
   "source": [
    "# Create new features\n",
    "data_new_features = data.copy()\n",
    "data_new_features['family_size'] = data_new_features['sibsp'] + data_new_features['parch'] + 1\n",
    "data_new_features['is_alone'] = (data_new_features['family_size'] == 1).astype(int)\n",
    "\n",
    "# Any other features you can think of?\n",
    "\n",
    "# Scale the numerical features\n",
    "# <insert code here>"
   ]
  },
  {
   "cell_type": "markdown",
   "metadata": {},
   "source": [
    "### Questions for Exploration\n",
    "\n",
    "1. How do the new features affect model performance?\n",
    "2. What other features can you create from the existing ones?\n",
    "3. How does feature scaling (e.g., standardization, normalization) affect model performance? (Keep in mind that the data should be scaled **after** data splitting; this will require modifying the simple_model method in functionals.)"
   ]
  },
  {
   "cell_type": "markdown",
   "metadata": {},
   "source": [
    "## 4. Visualizations/Data Exploration\n",
    "\n",
    "We will visualize and explore the dataset using different techniques. We will also explore the impact of these visualizations on data interpretation."
   ]
  },
  {
   "cell_type": "code",
   "execution_count": null,
   "metadata": {},
   "outputs": [],
   "source": [
    "import matplotlib.pyplot as plt\n",
    "import seaborn as sns\n",
    "\n",
    "# Histogram of age\n",
    "plt.figure(figsize=(10, 6))\n",
    "sns.histplot(data['age'], bins=30, kde=True)\n",
    "plt.title('Age Distribution')\n",
    "plt.xlabel('Age')\n",
    "plt.ylabel('Frequency')\n",
    "plt.show()\n",
    "\n",
    "# Bar plot of survival by sex\n",
    "plt.figure(figsize=(10, 6))\n",
    "sns.barplot(x='sex', y='survived', data=data)\n",
    "plt.title('Survival by Sex')\n",
    "plt.xlabel('Sex')\n",
    "plt.ylabel('Survival Rate')\n",
    "plt.show()\n",
    "\n",
    "# Pair plot of numerical features\n",
    "sns.pairplot(data[['age', 'fare', 'family_size', 'survived']], hue='survived')\n",
    "plt.show()\n"
   ]
  },
  {
   "cell_type": "markdown",
   "metadata": {},
   "source": [
    "### Questions for Exploration\n",
    "\n",
    "1. How do the visualizations help in understanding the dataset?\n",
    "2. What other visualizations can you create to explore the dataset?\n",
    "3. How does the choice of visualization technique affect the interpretation of the data?"
   ]
  },
  {
   "cell_type": "markdown",
   "metadata": {},
   "source": [
    "## Extensions\n",
    "\n",
    "Explore other data preprocessing techniques such as:\n",
    "- Encoding categorical variables (e.g., one-hot encoding, label encoding) - i.e., if you modify the simple_model method to only include numerical features, omitting the categorical variables\n",
    "- Feature selection techniques (i.e., assessing inter-feature correlation and removing )\n",
    "\n",
    "Compare their impact on the dataset and the performance of downstream machine learning models. \n",
    "Can you identify any sources of bias in the dataset?"
   ]
  }
 ],
 "metadata": {
  "kernelspec": {
   "display_name": "default",
   "language": "python",
   "name": "python3"
  },
  "language_info": {
   "codemirror_mode": {
    "name": "ipython",
    "version": 3
   },
   "file_extension": ".py",
   "mimetype": "text/x-python",
   "name": "python",
   "nbconvert_exporter": "python",
   "pygments_lexer": "ipython3",
   "version": "3.9.21"
  }
 },
 "nbformat": 4,
 "nbformat_minor": 4
}
